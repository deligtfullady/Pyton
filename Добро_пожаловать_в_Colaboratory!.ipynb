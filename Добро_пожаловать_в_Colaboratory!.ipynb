{
  "cells": [
    {
      "cell_type": "markdown",
      "metadata": {
        "id": "view-in-github",
        "colab_type": "text"
      },
      "source": [
        "<a href=\"https://colab.research.google.com/github/deligtfullady/Pyton/blob/main/%D0%94%D0%BE%D0%B1%D1%80%D0%BE_%D0%BF%D0%BE%D0%B6%D0%B0%D0%BB%D0%BE%D0%B2%D0%B0%D1%82%D1%8C_%D0%B2_Colaboratory!.ipynb\" target=\"_parent\"><img src=\"https://colab.research.google.com/assets/colab-badge.svg\" alt=\"Open In Colab\"/></a>"
      ]
    },
    {
      "cell_type": "code",
      "source": [
        "# Загрузка df\n",
        "# вариант 1\n",
        "adv1_df = pd.read_csv('advertising_1.csv', index_col='Number')\n",
        "# вариант 2\n",
        "adv1_df = pd.read_csv('advertising_1.csv')\n",
        "adv1_df = adv1_df.set_index('Number')\n",
        "# вариант 3\n",
        "adv1_df = pd.read_csv('advertising_1.csv')\n",
        "adv1_df.set_index('Number', inplace=True)\n",
        "# Отображение первых 10 строк\n",
        "# вариант 1 (приоритет)\n",
        "adv1_df.head(10)\n",
        "# вариант 2 (приоритет)\n",
        "adv1_df[:10]\n",
        "# вариант 3\n",
        "adv1_df.loc[:10 , :]\n",
        "\n",
        "# Вывод размерности\n",
        "adv1_df.shape\n",
        "# вариант 1\n",
        "adv1_df.loc[8, 'Daily Internet Usage']\n",
        "# вариант 2\n",
        "adv1_df.iloc[2, 1]\n",
        "\n",
        "# Загрузка df\n",
        "# вариант 1\n",
        "adv2_df = pd.read_csv('advertising_2.csv', index_col='Number')\n",
        "# вариант 2\n",
        "adv2_df = pd.read_csv('advertising_2.csv') adv2_df = adv2_df.set_index('Number')\n",
        "# вариант 3\n",
        "adv2_df = pd.read_csv('advertising_2.csv') adv2_df.set_index('Number', inplace=True)\n",
        "# Отображение пользователей с номерами с 533 по 536\n",
        "# вариант 1\n",
        "adv2_df.loc[533:536]\n",
        "# вариант 2 (приоритет)\n",
        "adv2_df.loc[533:536, :]\n",
        "# вариант 3 adv2_df.iloc[3:7]"
      ],
      "metadata": {
        "colab": {
          "base_uri": "https://localhost:8080/",
          "height": 211
        },
        "id": "vsIPJCUnhz5x",
        "outputId": "4c41a8b6-6d77-4d9f-f3eb-c86208ddfe35"
      },
      "execution_count": 2,
      "outputs": [
        {
          "output_type": "error",
          "ename": "NameError",
          "evalue": "name 'pd' is not defined",
          "traceback": [
            "\u001b[0;31m---------------------------------------------------------------------------\u001b[0m",
            "\u001b[0;31mNameError\u001b[0m                                 Traceback (most recent call last)",
            "\u001b[0;32m<ipython-input-2-b7911b156193>\u001b[0m in \u001b[0;36m<cell line: 3>\u001b[0;34m()\u001b[0m\n\u001b[1;32m      1\u001b[0m \u001b[0;31m# Загрузка df\u001b[0m\u001b[0;34m\u001b[0m\u001b[0;34m\u001b[0m\u001b[0m\n\u001b[1;32m      2\u001b[0m \u001b[0;31m# вариант 1\u001b[0m\u001b[0;34m\u001b[0m\u001b[0;34m\u001b[0m\u001b[0m\n\u001b[0;32m----> 3\u001b[0;31m \u001b[0madv1_df\u001b[0m \u001b[0;34m=\u001b[0m \u001b[0mpd\u001b[0m\u001b[0;34m.\u001b[0m\u001b[0mread_csv\u001b[0m\u001b[0;34m(\u001b[0m\u001b[0;34m'advertising_1.csv'\u001b[0m\u001b[0;34m,\u001b[0m \u001b[0mindex_col\u001b[0m\u001b[0;34m=\u001b[0m\u001b[0;34m'Number'\u001b[0m\u001b[0;34m)\u001b[0m\u001b[0;34m\u001b[0m\u001b[0;34m\u001b[0m\u001b[0m\n\u001b[0m\u001b[1;32m      4\u001b[0m \u001b[0;31m# вариант 2\u001b[0m\u001b[0;34m\u001b[0m\u001b[0;34m\u001b[0m\u001b[0m\n\u001b[1;32m      5\u001b[0m \u001b[0madv1_df\u001b[0m \u001b[0;34m=\u001b[0m \u001b[0mpd\u001b[0m\u001b[0;34m.\u001b[0m\u001b[0mread_csv\u001b[0m\u001b[0;34m(\u001b[0m\u001b[0;34m'advertising_1.csv'\u001b[0m\u001b[0;34m)\u001b[0m\u001b[0;34m\u001b[0m\u001b[0;34m\u001b[0m\u001b[0m\n",
            "\u001b[0;31mNameError\u001b[0m: name 'pd' is not defined"
          ]
        }
      ]
    }
  ],
  "metadata": {
    "colab": {
      "name": "Добро пожаловать в Colaboratory!",
      "toc_visible": true,
      "provenance": [],
      "include_colab_link": true
    },
    "kernelspec": {
      "display_name": "Python 3",
      "name": "python3"
    }
  },
  "nbformat": 4,
  "nbformat_minor": 0
}